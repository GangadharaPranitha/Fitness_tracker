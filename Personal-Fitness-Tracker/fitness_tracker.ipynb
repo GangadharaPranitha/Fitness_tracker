{
 "cells": [
  {
   "cell_type": "markdown",
   "id": "c28b39ba",
   "metadata": {},
   "source": [
    "# Personal Fitness Tracker\n",
    "This notebook integrates meal and workout tracking functionality."
   ]
  },
  {
   "cell_type": "code",
   "execution_count": null,
   "id": "3e1eaefa",
   "metadata": {},
   "outputs": [],
   "source": [
    "\n",
    "# Import modules\n",
    "from app.calories import log_meal\n",
    "from app.exercise import log_workout\n",
    "\n",
    "# Main menu to interact with the user\n",
    "def main():\n",
    "    while True:\n",
    "        print(\"\\nPersonal Fitness Tracker\")\n",
    "        print(\"1. Log a Meal\")\n",
    "        print(\"2. Log a Workout\")\n",
    "        print(\"3. Exit\")\n",
    "        \n",
    "        choice = input(\"Enter your choice: \")\n",
    "        \n",
    "        if choice == '1':\n",
    "            log_meal()\n",
    "        elif choice == '2':\n",
    "            log_workout()\n",
    "        elif choice == '3':\n",
    "            print(\"Exiting...\")\n",
    "            break\n",
    "        else:\n",
    "            print(\"Invalid choice. Please try again.\")\n",
    "\n",
    "# Run the main menu\n",
    "if __name__ == \"__main__\":\n",
    "    main()\n"
   ]
  }
 ],
 "metadata": {},
 "nbformat": 4,
 "nbformat_minor": 5
}